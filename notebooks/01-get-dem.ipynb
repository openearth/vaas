{
 "cells": [
  {
   "cell_type": "code",
   "execution_count": 1,
   "metadata": {},
   "outputs": [],
   "source": [
    "import ee\n",
    "ee.Initialize()"
   ]
  },
  {
   "cell_type": "code",
   "execution_count": 2,
   "metadata": {},
   "outputs": [],
   "source": [
    "# create a non-geodetic area of interest\n",
    "aoi = ee.Geometry.Polygon([[\n",
    "          [-122.75548673853245, 38.0411041965202],\n",
    "          [-122.75548673853245, 37.64853352930806],\n",
    "          [-122.11690641626683, 37.64853352930806],\n",
    "          [-122.11690641626683, 38.0411041965202]]], None, False)"
   ]
  },
  {
   "cell_type": "code",
   "execution_count": 3,
   "metadata": {},
   "outputs": [],
   "source": [
    "coords_web = aoi.transform('EPSG:3857', 1).coordinates().getInfo()\n",
    "coords_wgs = aoi.coordinates().getInfo()"
   ]
  },
  {
   "cell_type": "code",
   "execution_count": 4,
   "metadata": {},
   "outputs": [],
   "source": [
    "# query NED dem for US\n",
    "dem = ee.Image(\"USGS/NED\").visualize(**{\"min\": 0, \"max\": 700})"
   ]
  },
  {
   "cell_type": "code",
   "execution_count": 5,
   "metadata": {},
   "outputs": [
    {
     "data": {
      "text/plain": [
       "{'mapid': 'projects/earthengine-legacy/maps/d0d7d18f7cc730af0c35931dda0bad59-41af990e40147365645c95ef98bbd78b',\n",
       " 'token': '',\n",
       " 'tile_fetcher': <ee.data.TileFetcher at 0x1ce42dadcc8>,\n",
       " 'image': <ee.image.Image at 0x1ce42da5708>}"
      ]
     },
     "execution_count": 5,
     "metadata": {},
     "output_type": "execute_result"
    }
   ],
   "source": [
    "dem.getMapId()"
   ]
  },
  {
   "cell_type": "code",
   "execution_count": 6,
   "metadata": {},
   "outputs": [],
   "source": [
    "tile_fetcher = dem.getMapId()['tile_fetcher']"
   ]
  },
  {
   "cell_type": "code",
   "execution_count": 7,
   "metadata": {},
   "outputs": [
    {
     "data": {
      "text/plain": [
       "'https://earthengine.googleapis.com/v1alpha/projects/earthengine-legacy/maps/d0d7d18f7cc730af0c35931dda0bad59-72c0a00beecabdf416e30dbbb6d2c7ba/tiles/${z}/${x}/${y}'"
      ]
     },
     "execution_count": 7,
     "metadata": {},
     "output_type": "execute_result"
    }
   ],
   "source": [
    "url = tile_fetcher.url_format.format(x='${x}', y='${y}', z='${z}')\n",
    "url"
   ]
  },
  {
   "cell_type": "code",
   "execution_count": 8,
   "metadata": {},
   "outputs": [],
   "source": [
    "template =  '''<GDAL_WMS>\n",
    "    <Service name=\"TMS\">\n",
    "        <ServerUrl>{url}</ServerUrl>\n",
    "        <SRS>EPSG:3857</SRS>\n",
    "    </Service>\n",
    "    <DataWindow>\n",
    "        <UpperLeftX>-20037508.34</UpperLeftX>\n",
    "        <UpperLeftY>20037508.34</UpperLeftY>\n",
    "        <LowerRightX>20037508.34</LowerRightX>\n",
    "        <LowerRightY>-20037508.34</LowerRightY>\n",
    "        <TileLevel>18</TileLevel>\n",
    "        <TileCountX>1</TileCountX>\n",
    "        <TileCountY>1</TileCountY>\n",
    "        <YOrigin>top</YOrigin>\n",
    "    </DataWindow>\n",
    "    <Projection>EPSG:3857</Projection>\n",
    "    <BlockSizeX>256</BlockSizeX>\n",
    "    <BlockSizeY>256</BlockSizeY>\n",
    "    <BandsCount>3</BandsCount>\n",
    "    <Cache>\n",
    "        <Path>../.gdalwmscache</Path>\n",
    "        <Extension>.png</Extension>\n",
    "    </Cache>\n",
    "</GDAL_WMS>\n",
    "'''\n",
    "filled = template.format(url=url)\n",
    "\n",
    "with open('ee.xml', 'w') as f:\n",
    "    f.write(filled)"
   ]
  },
  {
   "cell_type": "code",
   "execution_count": 9,
   "metadata": {},
   "outputs": [
    {
     "name": "stdout",
     "output_type": "stream",
     "text": [
      "Driver: WMS/OGC Web Map Service\n",
      "Files: ee.xml\n",
      "Size is 67108864, 67108864\n",
      "Coordinate System is:\n",
      "PROJCS[\"WGS 84 / Pseudo-Mercator\",\n",
      "    GEOGCS[\"WGS 84\",\n",
      "        DATUM[\"WGS_1984\",\n",
      "            SPHEROID[\"WGS 84\",6378137,298.257223563,\n",
      "                AUTHORITY[\"EPSG\",\"7030\"]],\n",
      "            AUTHORITY[\"EPSG\",\"6326\"]],\n",
      "        PRIMEM[\"Greenwich\",0,\n",
      "            AUTHORITY[\"EPSG\",\"8901\"]],\n",
      "        UNIT[\"degree\",0.0174532925199433,\n",
      "            AUTHORITY[\"EPSG\",\"9122\"]],\n",
      "        AUTHORITY[\"EPSG\",\"4326\"]],\n",
      "    PROJECTION[\"Mercator_1SP\"],\n",
      "    PARAMETER[\"central_meridian\",0],\n",
      "    PARAMETER[\"scale_factor\",1],\n",
      "    PARAMETER[\"false_easting\",0],\n",
      "    PARAMETER[\"false_northing\",0],\n",
      "    UNIT[\"metre\",1,\n",
      "        AUTHORITY[\"EPSG\",\"9001\"]],\n",
      "    AXIS[\"X\",EAST],\n",
      "    AXIS[\"Y\",NORTH],\n",
      "    EXTENSION[\"PROJ4\",\"+proj=merc +a=6378137 +b=6378137 +lat_ts=0.0 +lon_0=0.0 +x_0=0.0 +y_0=0 +k=1.0 +units=m +nadgrids=@null +wktext +no_defs\"],\n",
      "    AUTHORITY[\"EPSG\",\"3857\"]]\n",
      "Origin = (-20037508.339999999850988,20037508.339999999850988)\n",
      "Pixel Size = (0.597164283394814,-0.597164283394814)\n",
      "Metadata:\n",
      "  CACHE_PATH=../.gdalwmscache\\ad649d806e2bb77d0ce982613fcffcb5\n",
      "Image Structure Metadata:\n",
      "  INTERLEAVE=PIXEL\n",
      "Corner Coordinates:\n",
      "Upper Left  (-20037508.340,20037508.340) (180d 0' 0.00\"W, 85d 3' 4.06\"N)\n",
      "Lower Left  (-20037508.340,-20037508.340) (180d 0' 0.00\"W, 85d 3' 4.06\"S)\n",
      "Upper Right (20037508.340,20037508.340) (180d 0' 0.00\"E, 85d 3' 4.06\"N)\n",
      "Lower Right (20037508.340,-20037508.340) (180d 0' 0.00\"E, 85d 3' 4.06\"S)\n",
      "Center      (   0.0000000,   0.0000000) (  0d 0' 0.01\"E,  0d 0' 0.01\"N)\n",
      "Band 1 Block=256x256 Type=Byte, ColorInterp=Red\n",
      "  Overviews: 33554432x33554432, 16777216x16777216, 8388608x8388608, 4194304x4194304, 2097152x2097152, 1048576x1048576, 524288x524288, 262144x262144, 131072x131072, 65536x65536, 32768x32768, 16384x16384, 8192x8192, 4096x4096, 2048x2048, 1024x1024, 512x512, 256x256\n",
      "Band 2 Block=256x256 Type=Byte, ColorInterp=Green\n",
      "  Overviews: 33554432x33554432, 16777216x16777216, 8388608x8388608, 4194304x4194304, 2097152x2097152, 1048576x1048576, 524288x524288, 262144x262144, 131072x131072, 65536x65536, 32768x32768, 16384x16384, 8192x8192, 4096x4096, 2048x2048, 1024x1024, 512x512, 256x256\n",
      "Band 3 Block=256x256 Type=Byte, ColorInterp=Blue\n",
      "  Overviews: 33554432x33554432, 16777216x16777216, 8388608x8388608, 4194304x4194304, 2097152x2097152, 1048576x1048576, 524288x524288, 262144x262144, 131072x131072, 65536x65536, 32768x32768, 16384x16384, 8192x8192, 4096x4096, 2048x2048, 1024x1024, 512x512, 256x256\n"
     ]
    }
   ],
   "source": [
    "!gdalinfo ee.xml"
   ]
  },
  {
   "cell_type": "code",
   "execution_count": 10,
   "metadata": {},
   "outputs": [],
   "source": [
    "# !gdal_translate ee.xml -scale 1000 -srcwin ${coords_web[0][0][0]} ${coords_web[0][0][1]} 2048 2048 out.png\n",
    "ll = coords_web[0][0][0], coords_web[0][0][1]\n",
    "lr = coords_web[0][1][0], coords_web[0][1][1]\n",
    "ur = coords_web[0][2][0], coords_web[0][2][1]\n",
    "ul = coords_web[0][3][0], coords_web[0][3][1]\n",
    "\n",
    "# ll = coords_wgs[0][0][0], coords_wgs[0][0][1]\n",
    "# lr = coords_wgs[0][1][0], coords_wgs[0][1][1]\n",
    "# ur = coords_wgs[0][2][0], coords_wgs[0][2][1]\n",
    "# ul = coords_wgs[0][3][0], coords_wgs[0][3][1]\n",
    "\n",
    "width = lr[0] - ul[0]\n",
    "height = ul[1] - lr[1]\n"
   ]
  },
  {
   "cell_type": "code",
   "execution_count": 11,
   "metadata": {},
   "outputs": [
    {
     "name": "stdout",
     "output_type": "stream",
     "text": [
      "Input file size is 67108864, 67108864\n",
      "0...10...20...30...40...50...60...70...80...90...100 - done.\n"
     ]
    }
   ],
   "source": [
    "!gdal_translate ee.xml -projwin {ul[0]} {ul[1]} {lr[0]} {lr[1]} -outsize 2048 2048 out.png"
   ]
  },
  {
   "cell_type": "code",
   "execution_count": null,
   "metadata": {},
   "outputs": [],
   "source": []
  }
 ],
 "metadata": {
  "kernelspec": {
   "display_name": "Python 3",
   "language": "python",
   "name": "python3"
  },
  "language_info": {
   "codemirror_mode": {
    "name": "ipython",
    "version": 3
   },
   "file_extension": ".py",
   "mimetype": "text/x-python",
   "name": "python",
   "nbconvert_exporter": "python",
   "pygments_lexer": "ipython3",
   "version": "3.7.6"
  }
 },
 "nbformat": 4,
 "nbformat_minor": 4
}
