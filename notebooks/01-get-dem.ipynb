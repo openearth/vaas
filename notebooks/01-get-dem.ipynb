{
 "cells": [
  {
   "cell_type": "code",
   "execution_count": 1,
   "metadata": {},
   "outputs": [],
   "source": [
    "import ee\n",
    "ee.Initialize()"
   ]
  },
  {
   "cell_type": "code",
   "execution_count": 8,
   "metadata": {},
   "outputs": [],
   "source": [
    "# create a non-geodetic area of interest\n",
    "aoi = ee.Geometry.Polygon([[\n",
    "          [-122.75548673853245, 38.0411041965202],\n",
    "          [-122.75548673853245, 37.64853352930806],\n",
    "          [-122.11690641626683, 37.64853352930806],\n",
    "          [-122.11690641626683, 38.0411041965202]]], None, False)\n"
   ]
  },
  {
   "cell_type": "code",
   "execution_count": 9,
   "metadata": {},
   "outputs": [],
   "source": [
    "# query NED dem for US\n",
    "dem = ee.Image(\"USGS/NED\")"
   ]
  },
  {
   "cell_type": "code",
   "execution_count": 11,
   "metadata": {},
   "outputs": [
    {
     "data": {
      "text/plain": [
       "{'mapid': 'projects/earthengine-legacy/maps/3f1ca249d4f19176c5e9bc2629b997a3-a0ad6c5ddf07caf7bb4bde24613cf4b4',\n",
       " 'token': '',\n",
       " 'tile_fetcher': <ee.data.TileFetcher at 0x1d597c9a248>,\n",
       " 'image': <ee.image.Image at 0x1d595af5dc8>}"
      ]
     },
     "execution_count": 11,
     "metadata": {},
     "output_type": "execute_result"
    }
   ],
   "source": [
    "dem.getMapId()"
   ]
  },
  {
   "cell_type": "code",
   "execution_count": 15,
   "metadata": {},
   "outputs": [],
   "source": [
    "tile_fetcher = dem.getMapId()['tile_fetcher']"
   ]
  },
  {
   "cell_type": "code",
   "execution_count": 26,
   "metadata": {},
   "outputs": [
    {
     "name": "stdout",
     "output_type": "stream",
     "text": [
      "https://earthengine.googleapis.com/v1alpha/projects/earthengine-legacy/maps/3f1ca249d4f19176c5e9bc2629b997a3-671d38bb72b63cc5aa27706e2bcdb380/tiles/{z}/{x}/{y}\n"
     ]
    }
   ],
   "source": [
    "print(tile_fetcher.url_format)"
   ]
  }
 ],
 "metadata": {
  "kernelspec": {
   "display_name": "Python 3.7.6 64-bit ('work': conda)",
   "language": "python",
   "name": "python37664bitworkconda29122c767d534363a90db6310bbb639d"
  },
  "language_info": {
   "codemirror_mode": {
    "name": "ipython",
    "version": 3
   },
   "file_extension": ".py",
   "mimetype": "text/x-python",
   "name": "python",
   "nbconvert_exporter": "python",
   "pygments_lexer": "ipython3",
   "version": "3.7.6"
  }
 },
 "nbformat": 4,
 "nbformat_minor": 4
}
