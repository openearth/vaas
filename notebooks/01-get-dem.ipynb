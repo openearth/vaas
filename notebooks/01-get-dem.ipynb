{
 "cells": [
  {
   "cell_type": "code",
   "execution_count": 1,
   "metadata": {},
   "outputs": [],
   "source": [
    "import ee\n",
    "ee.Initialize()"
   ]
  },
  {
   "cell_type": "code",
   "execution_count": 2,
   "metadata": {},
   "outputs": [],
   "source": [
    "template =  '''<GDAL_WMS>\n",
    "    <Service name=\"TMS\">\n",
    "        <ServerUrl>{url}</ServerUrl>\n",
    "        <SRS>EPSG:3857</SRS>\n",
    "    </Service>\n",
    "    <DataWindow>\n",
    "        <UpperLeftX>-20037508.34</UpperLeftX>\n",
    "        <UpperLeftY>20037508.34</UpperLeftY>\n",
    "        <LowerRightX>20037508.34</LowerRightX>\n",
    "        <LowerRightY>-20037508.34</LowerRightY>\n",
    "        <TileLevel>18</TileLevel>\n",
    "        <TileCountX>1</TileCountX>\n",
    "        <TileCountY>1</TileCountY>\n",
    "        <YOrigin>top</YOrigin>\n",
    "    </DataWindow>\n",
    "    <Projection>EPSG:3857</Projection>\n",
    "    <BlockSizeX>256</BlockSizeX>\n",
    "    <BlockSizeY>256</BlockSizeY>\n",
    "    <BandsCount>3</BandsCount>\n",
    "    <Cache>\n",
    "        <Path>../.gdalwmscache</Path>\n",
    "        <Extension>.png</Extension>\n",
    "    </Cache>\n",
    "</GDAL_WMS>\n",
    "'''\n",
    "\n",
    "def export_image(image, bounds, name):\n",
    "    coords_web = bounds.transform('EPSG:3857', 1).coordinates().getInfo()\n",
    "\n",
    "    tile_fetcher = image.getMapId()['tile_fetcher']\n",
    "    url = tile_fetcher.url_format.format(x='${x}', y='${y}', z='${z}')\n",
    "    \n",
    "    lr = coords_web[0][1][0], coords_web[0][1][1]\n",
    "    ul = coords_web[0][3][0], coords_web[0][3][1]\n",
    "\n",
    "    width = lr[0] - ul[0]\n",
    "    height = ul[1] - lr[1]\n",
    "        \n",
    "    with open(name + '.xml', 'w') as f:\n",
    "        xml = template.format(url=url)\n",
    "        f.write(xml)\n",
    "        \n",
    "    !gdal_translate {name}.xml -projwin {ul[0]} {ul[1]} {lr[0]} {lr[1]} -outsize 2048 2048 {name}.png"
   ]
  },
  {
   "cell_type": "code",
   "execution_count": 3,
   "metadata": {},
   "outputs": [],
   "source": [
    "# create a non-geodetic area of interest\n",
    "bounds = ee.Geometry.Polygon([[\n",
    "          [-122.75548673853245, 38.0411041965202],\n",
    "          [-122.75548673853245, 37.64853352930806],\n",
    "          [-122.11690641626683, 37.64853352930806],\n",
    "          [-122.11690641626683, 38.0411041965202]]], None, False)"
   ]
  },
  {
   "cell_type": "code",
   "execution_count": 19,
   "metadata": {},
   "outputs": [
    {
     "name": "stdout",
     "output_type": "stream",
     "text": [
      "Input file size is 67108864, 67108864\n",
      "0...10...20...30...40...50...60...70...80...90...100 - done.\n"
     ]
    }
   ],
   "source": [
    "# export DEM\n",
    "dem = ee.Image(\"USGS/NED\").visualize(**{\"min\": 0, \"max\": 700})\n",
    "export_image(image=dem, name='dem', bounds=bounds)"
   ]
  },
  {
   "cell_type": "code",
   "execution_count": 5,
   "metadata": {},
   "outputs": [
    {
     "name": "stdout",
     "output_type": "stream",
     "text": [
      "Input file size is 67108864, 67108864\n",
      "0...10...20...30...40...50...60...70...80...90...100 - done.\n"
     ]
    }
   ],
   "source": [
    "# export water\n",
    "water_polygons = ee.FeatureCollection(\"users/gena/OpenStreetMap/water\")\n",
    "water_lines = ee.FeatureCollection(\"users/gena/OpenStreetMap/waterways\")\n",
    "land = ee.Image(\"users/gena/land_polygons_image\")\n",
    "\n",
    "water_lines = water_lines.filterBounds(bounds)\n",
    "water_polygons = water_polygons.filterBounds(bounds)\n",
    "water = water_lines.merge(water_polygons)\n",
    "water_image = ee.Image(0).paint(water, 1, 1)\n",
    "\n",
    "water_ocean = land.unmask(1, False)\n",
    "water_image = water_image.max(water_ocean)\n",
    "\n",
    "water_image = water_image.visualize(**{'min': 0, 'max': 1, 'palette': ['000000', 'ffffff']}).clip(bounds)\n",
    "\n",
    "# export to png\n",
    "export_image(image=water_image, name='water', bounds=bounds)\n"
   ]
  }
 ],
 "metadata": {
  "kernelspec": {
   "display_name": "Python 3",
   "language": "python",
   "name": "python3"
  },
  "language_info": {
   "codemirror_mode": {
    "name": "ipython",
    "version": 3
   },
   "file_extension": ".py",
   "mimetype": "text/x-python",
   "name": "python",
   "nbconvert_exporter": "python",
   "pygments_lexer": "ipython3",
   "version": "3.7.6"
  }
 },
 "nbformat": 4,
 "nbformat_minor": 4
}
