{
 "cells": [
  {
   "cell_type": "code",
   "execution_count": 7,
   "metadata": {},
   "outputs": [],
   "source": [
    "import ee\n",
    "ee.Initialize()"
   ]
  },
  {
   "cell_type": "code",
   "execution_count": 8,
   "metadata": {},
   "outputs": [],
   "source": [
    "# create a non-geodetic area of interest\n",
    "aoi = ee.Geometry.Polygon([[\n",
    "          [-122.75548673853245, 38.0411041965202],\n",
    "          [-122.75548673853245, 37.64853352930806],\n",
    "          [-122.11690641626683, 37.64853352930806],\n",
    "          [-122.11690641626683, 38.0411041965202]]], None, False)"
   ]
  },
  {
   "cell_type": "code",
   "execution_count": 28,
   "metadata": {},
   "outputs": [],
   "source": [
    "coords_web = aoi.transform('EPSG:3857', 1).coordinates().getInfo()"
   ]
  },
  {
   "cell_type": "code",
   "execution_count": 34,
   "metadata": {},
   "outputs": [],
   "source": [
    "# query NED dem for US\n",
    "dem = ee.Image(\"USGS/NED\").visualize(**{\"min\": 0, \"max\": 700})"
   ]
  },
  {
   "cell_type": "code",
   "execution_count": 35,
   "metadata": {},
   "outputs": [
    {
     "data": {
      "text/plain": [
       "{'mapid': 'projects/earthengine-legacy/maps/d0d7d18f7cc730af0c35931dda0bad59-e9040bc70677b1d4175242aa710d7ae3',\n",
       " 'token': '',\n",
       " 'tile_fetcher': <ee.data.TileFetcher at 0x10ab60b50>,\n",
       " 'image': <ee.image.Image at 0x10aa9f8e0>}"
      ]
     },
     "execution_count": 35,
     "metadata": {},
     "output_type": "execute_result"
    }
   ],
   "source": [
    "dem.getMapId()"
   ]
  },
  {
   "cell_type": "code",
   "execution_count": 36,
   "metadata": {},
   "outputs": [],
   "source": [
    "tile_fetcher = dem.getMapId()['tile_fetcher']"
   ]
  },
  {
   "cell_type": "code",
   "execution_count": 43,
   "metadata": {},
   "outputs": [
    {
     "data": {
      "text/plain": [
       "'https://earthengine.googleapis.com/v1alpha/projects/earthengine-legacy/maps/d0d7d18f7cc730af0c35931dda0bad59-040532b7fdf0c0ed3869574d193713eb/tiles/${z}/${x}/${y}'"
      ]
     },
     "execution_count": 43,
     "metadata": {},
     "output_type": "execute_result"
    }
   ],
   "source": [
    "url = tile_fetcher.url_format.format(x='${x}', y='${y}', z='${z}')\n",
    "url"
   ]
  },
  {
   "cell_type": "code",
   "execution_count": 44,
   "metadata": {},
   "outputs": [],
   "source": [
    "template =  '''<GDAL_WMS>\n",
    "    <Service name=\"TMS\">\n",
    "        <ServerUrl>{url}</ServerUrl>\n",
    "        <SRS>EPSG:3857</SRS>\n",
    "    </Service>\n",
    "    <DataWindow>\n",
    "        <UpperLeftX>-20037508.34</UpperLeftX>\n",
    "        <UpperLeftY>20037508.34</UpperLeftY>\n",
    "        <LowerRightX>20037508.34</LowerRightX>\n",
    "        <LowerRightY>-20037508.34</LowerRightY>\n",
    "        <TileLevel>18</TileLevel>\n",
    "        <TileCountX>1</TileCountX>\n",
    "        <TileCountY>1</TileCountY>\n",
    "        <YOrigin>top</YOrigin>\n",
    "    </DataWindow>\n",
    "    <Projection>EPSG:3857</Projection>\n",
    "    <BlockSizeX>256</BlockSizeX>\n",
    "    <BlockSizeY>256</BlockSizeY>\n",
    "    <BandsCount>3</BandsCount>\n",
    "    <Cache>\n",
    "        <Path>../.gdalwmscache</Path>\n",
    "        <Extension>.png</Extension>\n",
    "    </Cache>\n",
    "</GDAL_WMS>\n",
    "'''\n",
    "filled = template.format(url=url)\n",
    "\n",
    "with open('ee.xml', 'w') as f:\n",
    "    f.write(filled)"
   ]
  },
  {
   "cell_type": "code",
   "execution_count": 45,
   "metadata": {},
   "outputs": [
    {
     "name": "stdout",
     "output_type": "stream",
     "text": [
      "Driver: WMS/OGC Web Map Service\r\n",
      "Files: ee.xml\r\n",
      "Size is 67108864, 67108864\r\n",
      "Coordinate System is:\r\n",
      "PROJCRS[\"WGS 84 / Pseudo-Mercator\",\r\n",
      "    BASEGEOGCRS[\"WGS 84\",\r\n",
      "        DATUM[\"World Geodetic System 1984\",\r\n",
      "            ELLIPSOID[\"WGS 84\",6378137,298.257223563,\r\n",
      "                LENGTHUNIT[\"metre\",1]]],\r\n",
      "        PRIMEM[\"Greenwich\",0,\r\n",
      "            ANGLEUNIT[\"degree\",0.0174532925199433]],\r\n",
      "        ID[\"EPSG\",4326]],\r\n",
      "    CONVERSION[\"unnamed\",\r\n",
      "        METHOD[\"Popular Visualisation Pseudo Mercator\",\r\n",
      "            ID[\"EPSG\",1024]],\r\n",
      "        PARAMETER[\"Latitude of natural origin\",0,\r\n",
      "            ANGLEUNIT[\"degree\",0.0174532925199433],\r\n",
      "            ID[\"EPSG\",8801]],\r\n",
      "        PARAMETER[\"Longitude of natural origin\",0,\r\n",
      "            ANGLEUNIT[\"degree\",0.0174532925199433],\r\n",
      "            ID[\"EPSG\",8802]],\r\n",
      "        PARAMETER[\"False easting\",0,\r\n",
      "            LENGTHUNIT[\"metre\",1],\r\n",
      "            ID[\"EPSG\",8806]],\r\n",
      "        PARAMETER[\"False northing\",0,\r\n",
      "            LENGTHUNIT[\"metre\",1],\r\n",
      "            ID[\"EPSG\",8807]]],\r\n",
      "    CS[Cartesian,2],\r\n",
      "        AXIS[\"easting\",east,\r\n",
      "            ORDER[1],\r\n",
      "            LENGTHUNIT[\"metre\",1]],\r\n",
      "        AXIS[\"northing\",north,\r\n",
      "            ORDER[2],\r\n",
      "            LENGTHUNIT[\"metre\",1]],\r\n",
      "    ID[\"EPSG\",3857]]\r\n",
      "Data axis to CRS axis mapping: 1,2\r\n",
      "Origin = (-20037508.339999999850988,20037508.339999999850988)\r\n",
      "Pixel Size = (0.597164283394814,-0.597164283394814)\r\n",
      "Metadata:\r\n",
      "  CACHE_PATH=../.gdalwmscache/19fd7a46fbb50b8de39acb0987631ae1\r\n",
      "Image Structure Metadata:\r\n",
      "  INTERLEAVE=PIXEL\r\n",
      "Corner Coordinates:\r\n",
      "Upper Left  (-20037508.340,20037508.340) (180d 0' 0.00\"W, 85d 3' 4.06\"N)\r\n",
      "Lower Left  (-20037508.340,-20037508.340) (180d 0' 0.00\"W, 85d 3' 4.06\"S)\r\n",
      "Upper Right (20037508.340,20037508.340) (180d 0' 0.00\"E, 85d 3' 4.06\"N)\r\n",
      "Lower Right (20037508.340,-20037508.340) (180d 0' 0.00\"E, 85d 3' 4.06\"S)\r\n",
      "Center      (   0.0000000,   0.0000000) (  0d 0' 0.01\"E,  0d 0' 0.01\"N)\r\n",
      "Band 1 Block=256x256 Type=Byte, ColorInterp=Red\r\n",
      "  Overviews: 33554432x33554432, 16777216x16777216, 8388608x8388608, 4194304x4194304, 2097152x2097152, 1048576x1048576, 524288x524288, 262144x262144, 131072x131072, 65536x65536, 32768x32768, 16384x16384, 8192x8192, 4096x4096, 2048x2048, 1024x1024, 512x512, 256x256\r\n",
      "Band 2 Block=256x256 Type=Byte, ColorInterp=Green\r\n",
      "  Overviews: 33554432x33554432, 16777216x16777216, 8388608x8388608, 4194304x4194304, 2097152x2097152, 1048576x1048576, 524288x524288, 262144x262144, 131072x131072, 65536x65536, 32768x32768, 16384x16384, 8192x8192, 4096x4096, 2048x2048, 1024x1024, 512x512, 256x256\r\n",
      "Band 3 Block=256x256 Type=Byte, ColorInterp=Blue\r\n",
      "  Overviews: 33554432x33554432, 16777216x16777216, 8388608x8388608, 4194304x4194304, 2097152x2097152, 1048576x1048576, 524288x524288, 262144x262144, 131072x131072, 65536x65536, 32768x32768, 16384x16384, 8192x8192, 4096x4096, 2048x2048, 1024x1024, 512x512, 256x256\r\n"
     ]
    }
   ],
   "source": [
    "!gdalinfo ee.xml"
   ]
  },
  {
   "cell_type": "code",
   "execution_count": 73,
   "metadata": {},
   "outputs": [
    {
     "name": "stdout",
     "output_type": "stream",
     "text": [
      "Input file size is 67108864, 67108864\r\n",
      "ERROR 1: Error: Computed -srcwin 3.45345e+07 3.35544e+07 -92672 0 has negative width and/or height.\r\n"
     ]
    }
   ],
   "source": [
    "# !gdal_translate ee.xml -scale 1000 -srcwin ${coords_web[0][0][0]} ${coords_web[0][0][1]} 2048 2048 out.png\n",
    "ll = coords_web[0][0][0], coords_web[0][0][1]\n",
    "lr = coords_web[0][1][0], coords_web[0][1][1]\n",
    "ur = coords_web[0][2][0], coords_web[0][2][1]\n",
    "ul = coords_web[0][3][0], coords_web[0][3][1]\n",
    "\n",
    "!gdal_translate ee.xml -projwin ${ul[0]} ${ul[1]} ${lr[0]} ${lr[1]}  out.png"
   ]
  },
  {
   "cell_type": "code",
   "execution_count": 72,
   "metadata": {},
   "outputs": [
    {
     "data": {
      "text/plain": [
       "((-13665078.275813881, 4585234.085676097),\n",
       " (-13593991.839508666, 4529893.677197623))"
      ]
     },
     "execution_count": 72,
     "metadata": {},
     "output_type": "execute_result"
    }
   ],
   "source": [
    "ul, lr"
   ]
  },
  {
   "cell_type": "code",
   "execution_count": 63,
   "metadata": {},
   "outputs": [
    {
     "data": {
      "image/png": "[encoded data removed]",
      "text/plain": [
       "<Figure size 432x288 with 1 Axes>"
      ]
     },
     "metadata": {
      "needs_background": "light"
     },
     "output_type": "display_data"
    }
   ],
   "source": [
    "import matplotlib.pyplot as plt\n",
    "fig, ax = plt.subplots()\n",
    "ax.plot(*a)\n",
    "ax.plot(*b)\n",
    "ax.plot(*c)\n",
    "ax.plot(*d)\n",
    "ax.annotate('a', a)\n",
    "ax.annotate('b', b)\n",
    "ax.annotate('c', c)\n",
    "ax.annotate('d', d)\n",
    "a, b, c, d\n",
    "ax.autoscale()"
   ]
  },
  {
   "cell_type": "code",
   "execution_count": null,
   "metadata": {},
   "outputs": [],
   "source": []
  }
 ],
 "metadata": {
  "kernelspec": {
   "display_name": "Python 3",
   "language": "python",
   "name": "python3"
  },
  "language_info": {
   "codemirror_mode": {
    "name": "ipython",
    "version": 3
   },
   "file_extension": ".py",
   "mimetype": "text/x-python",
   "name": "python",
   "nbconvert_exporter": "python",
   "pygments_lexer": "ipython3",
   "version": "3.8.3"
  }
 },
 "nbformat": 4,
 "nbformat_minor": 4
}
