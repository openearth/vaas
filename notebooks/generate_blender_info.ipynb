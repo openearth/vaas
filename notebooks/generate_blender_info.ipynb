{
 "cells": [
  {
   "cell_type": "code",
   "execution_count": 11,
   "metadata": {},
   "outputs": [
    {
     "ename": "ModuleNotFoundError",
     "evalue": "No module named 'mako'",
     "output_type": "error",
     "traceback": [
      "\u001b[0;31m---------------------------------------------------------------------------\u001b[0m",
      "\u001b[0;31mModuleNotFoundError\u001b[0m                       Traceback (most recent call last)",
      "\u001b[0;32m<ipython-input-11-d25dec114607>\u001b[0m in \u001b[0;36m<module>\u001b[0;34m\u001b[0m\n\u001b[1;32m      1\u001b[0m \u001b[0mmapid\u001b[0m \u001b[0;34m=\u001b[0m \u001b[0;34m'0ed80fbddaf6a8c41e30b143846f1e5d-079c1ca2428602fb1a33db1e56575db9'\u001b[0m\u001b[0;34m\u001b[0m\u001b[0;34m\u001b[0m\u001b[0m\n\u001b[0;32m----> 2\u001b[0;31m \u001b[0;32mimport\u001b[0m  \u001b[0mmako\u001b[0m\u001b[0;34m\u001b[0m\u001b[0;34m\u001b[0m\u001b[0m\n\u001b[0m",
      "\u001b[0;31mModuleNotFoundError\u001b[0m: No module named 'mako'"
     ]
    }
   ],
   "source": [
    "mapid = '0ed80fbddaf6a8c41e30b143846f1e5d-079c1ca2428602fb1a33db1e56575db9'"
   ]
  },
  {
   "cell_type": "code",
   "execution_count": 22,
   "metadata": {},
   "outputs": [],
   "source": []
  },
  {
   "cell_type": "code",
   "execution_count": 24,
   "metadata": {},
   "outputs": [
    {
     "name": "stdout",
     "output_type": "stream",
     "text": [
      "{\"blockxsize\": 256, \"blockysize\": 256, \"bounds\": [-20037508.34, -20037508.34, 20037508.34, 20037508.34], \"colorinterp\": [\"red\", \"green\", \"blue\"], \"count\": 3, \"crs\": \"EPSG:3857\", \"descriptions\": [null, null, null], \"driver\": \"WMS\", \"dtype\": \"uint8\", \"height\": 67108864, \"indexes\": [1, 2, 3], \"interleave\": \"pixel\", \"lnglat\": [0.0, 0.0], \"mask_flags\": [[\"all_valid\"], [\"all_valid\"], [\"all_valid\"]], \"nodata\": null, \"res\": [0.5971642833948135, 0.5971642833948135], \"shape\": [67108864, 67108864], \"tiled\": true, \"transform\": [0.5971642833948135, 0.0, -20037508.34, 0.0, -0.5971642833948135, 20037508.34, 0.0, 0.0, 1.0], \"units\": [null, null, null], \"width\": 67108864}\r\n"
     ]
    }
   ],
   "source": [
    "!rio info ./ee.xml \n"
   ]
  },
  {
   "cell_type": "code",
   "execution_count": null,
   "metadata": {},
   "outputs": [],
   "source": []
  }
 ],
 "metadata": {
  "kernelspec": {
   "display_name": "Python 3",
   "language": "python",
   "name": "python3"
  },
  "language_info": {
   "codemirror_mode": {
    "name": "ipython",
    "version": 3
   },
   "file_extension": ".py",
   "mimetype": "text/x-python",
   "name": "python",
   "nbconvert_exporter": "python",
   "pygments_lexer": "ipython3",
   "version": "3.8.3"
  }
 },
 "nbformat": 4,
 "nbformat_minor": 4
}
